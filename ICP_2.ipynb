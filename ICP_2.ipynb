{
 "cells": [
  {
   "cell_type": "code",
   "execution_count": 11,
   "id": "f4b9d07b-f6dc-4eea-ac2b-e0d3235d39a7",
   "metadata": {},
   "outputs": [
    {
     "name": "stdin",
     "output_type": "stream",
     "text": [
      "enter first name: ram\n",
      "enter last name: sri\n"
     ]
    },
    {
     "name": "stdout",
     "output_type": "stream",
     "text": [
      "User full name: ram sri\n",
      "Alternate String:  rmsi\n"
     ]
    }
   ],
   "source": [
    "#question 1\n",
    "first_name=input(\"enter first name:\")\n",
    "last_name=input(\"enter last name:\")\n",
    "\n",
    "def full_name(first_name,last_name):\n",
    "  return first_name+\" \"+last_name\n",
    "\n",
    "def string_alternative(full_name):\n",
    "  new_str=\" \"\n",
    "  for index in range(0,len(full_name),2):\n",
    "    new_str+=full_name[index]\n",
    "  return new_str\n",
    "print(\"User full name:\",full_name(first_name,last_name))\n",
    "print(\"Alternate String:\",string_alternative(full_name(first_name,last_name)))\n",
    "\n"
   ]
  },
  {
   "cell_type": "code",
   "execution_count": 13,
   "id": "1156262f-24b4-4386-a410-c221cdd223af",
   "metadata": {},
   "outputs": [],
   "source": [
    "#question 2\n",
    "Input_file = open(\"input.txt\",\"r\")\n",
    "output_file = open(\"output.txt\",\"w\")\n",
    "content={}\n",
    "for line in Input_file:\n",
    "    output_file.write(line)\n",
    "    new_l=line.split()\n",
    "    for x in new_l:\n",
    "        if(content.get(x)==None):\n",
    "             content[x]=1\n",
    "        else:\n",
    "             content[x]=content[x]+1\n",
    "output_file.write(\"word_count:\")\n",
    "for key, value in content.items():\n",
    "       output_file.write('%s:%s\\n' %(key, value))\n",
    "Input_file.close()\n",
    "output_file.close()\n"
   ]
  },
  {
   "cell_type": "code",
   "execution_count": 15,
   "id": "04c876b8-3e63-4c96-b857-841e137868e9",
   "metadata": {},
   "outputs": [
    {
     "name": "stdin",
     "output_type": "stream",
     "text": [
      "enter customer heights: 123\n"
     ]
    },
    {
     "name": "stdout",
     "output_type": "stream",
     "text": [
      "show list: [312.42]\n"
     ]
    }
   ],
   "source": [
    "#question 3\n",
    "data = input(\"enter customer heights:\")\n",
    "def inchToCent(value):\n",
    "    return value*2.54\n",
    "heights=data.split()\n",
    "new_list=[]\n",
    "for x in heights:\n",
    "    value=int(x)\n",
    "    new_list.append(inchToCent(value))\n",
    "print(\"show list:\",new_list)"
   ]
  },
  {
   "cell_type": "code",
   "execution_count": null,
   "id": "e17c83f1-f674-4c83-9136-2b1c36d47342",
   "metadata": {},
   "outputs": [],
   "source": []
  },
  {
   "cell_type": "code",
   "execution_count": null,
   "id": "9b634c4f-7f12-4047-8dad-f75b3ac6b4a3",
   "metadata": {},
   "outputs": [],
   "source": []
  }
 ],
 "metadata": {
  "kernelspec": {
   "display_name": "Python 3 (ipykernel)",
   "language": "python",
   "name": "python3"
  },
  "language_info": {
   "codemirror_mode": {
    "name": "ipython",
    "version": 3
   },
   "file_extension": ".py",
   "mimetype": "text/x-python",
   "name": "python",
   "nbconvert_exporter": "python",
   "pygments_lexer": "ipython3",
   "version": "3.11.7"
  }
 },
 "nbformat": 4,
 "nbformat_minor": 5
}
