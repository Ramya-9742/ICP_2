{
 "cells": [
  {
   "cell_type": "code",
   "execution_count": 19,
   "id": "f4b9d07b-f6dc-4eea-ac2b-e0d3235d39a7",
   "metadata": {},
   "outputs": [
    {
     "name": "stdin",
     "output_type": "stream",
     "text": [
      "enter first name: ramya\n",
      "enter last name: kandukuri\n"
     ]
    },
    {
     "name": "stdout",
     "output_type": "stream",
     "text": [
      "User full name: ramya kandukuri\n",
      "Alternate String:  rmaknuui\n"
     ]
    }
   ],
   "source": [
    "#question 1\n",
    "first_name=input(\"enter first name:\")\n",
    "last_name=input(\"enter last name:\")\n",
    "\n",
    "def full_name(first_name,last_name):\n",
    "  return first_name+\" \"+last_name\n",
    "\n",
    "def string_alternative(full_name):\n",
    "  new_str=\" \"\n",
    "  for index in range(0,len(full_name),2):\n",
    "    new_str+=full_name[index]\n",
    "  return new_str\n",
    "print(\"User full name:\",full_name(first_name,last_name))\n",
    "print(\"Alternate String:\",string_alternative(full_name(first_name,last_name)))\n",
    "\n"
   ]
  },
  {
   "cell_type": "code",
   "execution_count": null,
   "id": "51ff92f8-d3ca-4c31-b3b8-184c2c6eb6a7",
   "metadata": {},
   "outputs": [],
   "source": []
  },
  {
   "cell_type": "code",
   "execution_count": 20,
   "id": "1156262f-24b4-4386-a410-c221cdd223af",
   "metadata": {},
   "outputs": [],
   "source": [
    "#question 2\n",
    "Input_file = open(\"Input.txt\", \"r\")\n",
    "output_file = open(\"output.txt\", \"w\")\n",
    "\n",
    "content = {}\n",
    "for line in Input_file:\n",
    "    output_file.write(line)\n",
    "    new_l = line.split()\n",
    "    for x in new_l: \n",
    "        if(content.get(x)==None):\n",
    "            content[x]=1\n",
    "        else:\n",
    "            content[x] = content[x] + 1\n",
    "\n",
    "output_file.write( \"word_count : \")\n",
    "for key, value in content.items():\n",
    "        output_file.write('%s:%s\\n' % (key, value))\n",
    "Input_file.close()\n",
    "output_file.close()"
   ]
  },
  {
   "cell_type": "code",
   "execution_count": 21,
   "id": "04c876b8-3e63-4c96-b857-841e137868e9",
   "metadata": {},
   "outputs": [
    {
     "name": "stdout",
     "output_type": "stream",
     "text": [
      "Heights in inches: [150, 155, 145, 148]\n",
      "Heights in centimeters: [381.0, 393.7, 368.3, 375.92]\n"
     ]
    }
   ],
   "source": [
    "def inches_to_cm(height_inches):\n",
    "    return height_inches * 2.54\n",
    "\n",
    "heights_inches = [150, 155, 145, 148]\n",
    "heights_cm = []\n",
    "for height in heights_inches:\n",
    "    cm_height = inches_to_cm(height)\n",
    "    heights_cm.append(cm_height)\n",
    "\n",
    "print(\"Heights in inches:\", heights_inches)\n",
    "\n",
    "print(\"Heights in centimeters:\",heights_cm)"
   ]
  },
  {
   "cell_type": "code",
   "execution_count": 22,
   "id": "e17c83f1-f674-4c83-9136-2b1c36d47342",
   "metadata": {},
   "outputs": [
    {
     "name": "stdout",
     "output_type": "stream",
     "text": [
      "Heights in inches: [150, 155, 145, 148]\n",
      "Heights in centimeters (list comprehension): [381.0, 393.7, 368.3, 375.92]\n"
     ]
    }
   ],
   "source": [
    "def inches_to_cm(height_inches):\n",
    "    return height_inches * 2.54\n",
    "\n",
    "heights_inches = [150, 155, 145, 148]\n",
    "\n",
    "\n",
    "heights_cm = [inches_to_cm(height) for height in heights_inches]\n",
    "\n",
    "\n",
    "print(\"Heights in inches:\", heights_inches)\n",
    "\n",
    "\n",
    "print(\"Heights in centimeters (list comprehension):\", heights_cm)\n"
   ]
  },
  {
   "cell_type": "code",
   "execution_count": null,
   "id": "9b634c4f-7f12-4047-8dad-f75b3ac6b4a3",
   "metadata": {},
   "outputs": [],
   "source": []
  },
  {
   "cell_type": "code",
   "execution_count": null,
   "id": "125a9145-ff22-4bb4-8acf-b7b1890622e4",
   "metadata": {},
   "outputs": [],
   "source": []
  },
  {
   "cell_type": "code",
   "execution_count": null,
   "id": "32981189-8bad-4f9b-ae11-f46b48509ea8",
   "metadata": {},
   "outputs": [],
   "source": []
  }
 ],
 "metadata": {
  "kernelspec": {
   "display_name": "Python 3 (ipykernel)",
   "language": "python",
   "name": "python3"
  },
  "language_info": {
   "codemirror_mode": {
    "name": "ipython",
    "version": 3
   },
   "file_extension": ".py",
   "mimetype": "text/x-python",
   "name": "python",
   "nbconvert_exporter": "python",
   "pygments_lexer": "ipython3",
   "version": "3.11.7"
  }
 },
 "nbformat": 4,
 "nbformat_minor": 5
}
